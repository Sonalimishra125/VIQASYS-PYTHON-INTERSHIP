{
 "cells": [
  {
   "cell_type": "markdown",
   "metadata": {},
   "source": [
    "___\n",
    "\n",
    "<a href='https://viqasys.com/wp-content/uploads/2021/07/ns1.png'><img src='https://viqasys.com/wp-content/uploads/2021/07/ns1.png'/></a>\n",
    "___\n",
    "<center><em>Content Copyright VIQASYS INNOVATIONS PVT LTD.</em></center>\n",
    "\n",
    "# Assignment 1"
   ]
  },
  {
   "cell_type": "markdown",
   "metadata": {},
   "source": [
    "# Question 1\n",
    "\n",
    "In the below elements, identify which of them are values or expressions. Values can be integers or strings, while expressions will be mathematical operators or combinations thereof.\n",
    "'hello', \n",
    "-87., ), o, lu, alu, ssion)'(Value))str\" (Value)"
   ]
  },
  {
   "cell_type": "markdown",
   "metadata": {},
   "source": [
    "Values: 'hello', -87., o, lu, alu, ssion)'(Value))str\" .\n",
    "\n",
    "Expressions: ')' (as a closing parenthesis), \n",
    "            (Value))str\" (although it seems malformed),\n",
    "             mathematical operators or combinations thereof are not present in the provided elements."
   ]
  },
  {
   "cell_type": "markdown",
   "metadata": {},
   "source": [
    "## Question 2\n",
    "\n",
    "Explain the difference between a string and a variable.\n"
   ]
  },
  {
   "cell_type": "markdown",
   "metadata": {},
   "source": [
    "String:\n",
    "A string is a sequence of characters enclosed within either single quotes (' ') or double quotes (\" \").\n",
    "\n",
    "Strings are used to represent textual data such as words, sentences, or any sequence of characters.\n",
    "\n",
    "Example: \"Hello, world!\".\n",
    "\n",
    "Variable:\n",
    "A variable is a symbolic name that represents or refers to a value stored in the computer's memory.\n",
    "\n",
    "Variables can hold different types of data, including strings, numbers, lists, etc.\n",
    "They are used to store and manipulate data in programs.\n",
    "\n",
    "Example: message = \"Hello, world!\", x = 10."
   ]
  },
  {
   "cell_type": "markdown",
   "metadata": {},
   "source": [
    "## Question 3\n",
    "Describe three different data types commonly used in programming"
   ]
  },
  {
   "cell_type": "markdown",
   "metadata": {},
   "source": [
    "The most commonly used data types in programming i.e,\n",
    "1. int:- int data types is basically defines the integer value or a whole number used in programming.\n",
    "        eg:- 4,67,-98 etc;\n",
    "2. float :- float data types is a such types of data types which basically defines the floating number or a decimal number in the programming .\n",
    "            eg:- 34.875;\n",
    "3. string :- string is also a data types which basically defines the sequences of character.\n",
    "             eg:- sonali;"
   ]
  },
  {
   "cell_type": "markdown",
   "metadata": {},
   "source": [
    "## Question 4\n",
    "What is an expression made up of? What is the general purpose of expressions?\n"
   ]
  },
  {
   "cell_type": "markdown",
   "metadata": {},
   "source": [
    " An expression in programming is made up of one or more operands and operators that are combined to produce a value.\n",
    " expressions are fundamental building blocks in programming and play a crucial role in manipulating data, making decisions,\n",
    " and controlling the flow of a program.\n",
    " like, operands, operators, Function and Methods;\n",
    "\n",
    " The general purpose of expressions in programming is to compute or evaluate values. \n",
    " They are used extensively in writing algorithms, performing calculations, making decisions, and controlling the flow of a program. \n",
    " Here are some common purposes of expressions:\n",
    "    1. performing calculations.\n",
    "    2. making comparison.\n",
    "    3. Logical operations.\n",
    "    4. assigning value.\n",
    "    5. function call.\n"
   ]
  },
  {
   "cell_type": "markdown",
   "metadata": {},
   "source": [
    "## Question 5\n",
    "\n",
    "Explain the difference between an expression and a statement, using examples if necessary."
   ]
  },
  {
   "cell_type": "markdown",
   "metadata": {},
   "source": [
    "Expression and statements are two fundamentals concepts but they have different purposes.\n",
    "1. Expression\n",
    "   a. An expression is a combination of values, variables, operators, and function calls that evaluates to a single value.\n",
    "   b. Expressions are used to compute values, perform calculations, and represent data.\n",
    "      Examples of expressions include arithmetic expressions (e.g., 2 + 3, x * y), logical expressions (e.g., a && b, x > y), \n",
    "      function calls (e.g., func(x, y)), and variable references (e.g., x, y).\n",
    "   c. Expressions can be used within statements, as part of larger expressions, or as standalone entities.\n",
    "\n",
    "2. Statements\n",
    "   a. A statement is a complete instruction that performs an action or task within a program.\n",
    "   b. Statements are used to control the flow of execution, define behavior, and manipulate data in a program.\n",
    "      Examples of statements include assignment statements (e.g., x = 5, y = x + 3), conditional statements (e.g., if, else, switch),\n",
    "       loop statements (e.g., for, while, do-while), and function declarations and calls (e.g., void func() { ... }, func()).\n",
    "   c. Statements typically end with a semicolon (;) in languages like C, C++, Java, and JavaScript, although some languages may have different syntax rules."
   ]
  },
  {
   "cell_type": "markdown",
   "metadata": {},
   "source": [
    "## Question 6\n",
    "After running the following code, what does the variable \"bacon\" contain?\n",
    "\n",
    "bacon = 22 <br>\n",
    "\n",
    "bacon + 1"
   ]
  },
  {
   "cell_type": "markdown",
   "metadata": {},
   "source": [
    "variable bacon contain 23."
   ]
  },
  {
   "cell_type": "code",
   "execution_count": null,
   "metadata": {},
   "outputs": [],
   "source": [
    "bacon=22\n",
    "bacon+1"
   ]
  },
  {
   "cell_type": "markdown",
   "metadata": {},
   "source": [
    "## Question 7\n",
    "Determine the values of the following two terms:<br>\n",
    "'spam' + 'spamspam'<br>\n",
    "'spam' * 3\n",
    "\n"
   ]
  },
  {
   "cell_type": "markdown",
   "metadata": {},
   "source": [
    "'spam' + 'spamspam': This expression concatenates the string 'spam' with the string 'spamspam'.\n",
    "   The result is the string 'spamspamspam'\n",
    "\n",
    "'spam' * 3: This expression repeats the string 'spam' three times. \n",
    "   The result is the string 'spamspamspam'.\n",
    "   \n",
    "Therefore, the values of the two terms are the same: 'spamspamspam'."
   ]
  },
  {
   "cell_type": "code",
   "execution_count": 1,
   "metadata": {},
   "outputs": [
    {
     "data": {
      "text/plain": [
       "'spamspamspam'"
      ]
     },
     "execution_count": 1,
     "metadata": {},
     "output_type": "execute_result"
    }
   ],
   "source": [
    "'spam'+'spamspam'\n",
    "'spam'*3"
   ]
  },
  {
   "cell_type": "markdown",
   "metadata": {},
   "source": [
    "## Question 8\n",
    "\n",
    "Why is \"eggs\" a valid variable name while \"100\" is invalid?"
   ]
  },
  {
   "cell_type": "markdown",
   "metadata": {},
   "source": [
    "\"eggs\" is a valid variable name while \"100\" is invalid because of that a variabkle names cannot begin with a number."
   ]
  },
  {
   "cell_type": "markdown",
   "metadata": {},
   "source": [
    "## Question 9\n",
    "\n",
    "List three functions that can be used to obtain the integer, floating-point number, or string version of a value."
   ]
  },
  {
   "cell_type": "markdown",
   "metadata": {},
   "source": [
    "The int(), float(), string(), functions will evaluate to the integer, floating-point number, and string versions of the value passed to them."
   ]
  },
  {
   "cell_type": "code",
   "execution_count": null,
   "metadata": {},
   "outputs": [],
   "source": [
    "# Convert a floating-point number to an integer\n",
    "float_num = 87.5637\n",
    "int_num = int(float_num)\n",
    "print(int_num)\n",
    "\n",
    "# Convert an integer to a floating-point number\n",
    "int_num = 67\n",
    "float_num = float(int_num)\n",
    "print(float_num)\n",
    "\n",
    "# Convert an integer to a string\n",
    "int_num = 567\n",
    "str_num = str(int_num)\n",
    "print(str_num)\n"
   ]
  },
  {
   "cell_type": "markdown",
   "metadata": {},
   "source": [
    "## Question 10 \n",
    "Explain why the following expression causes an error and suggest how to fix it:<br>\n",
    "'I have eaten ' + 99 + ' burritos.'\n",
    "\n"
   ]
  },
  {
   "cell_type": "markdown",
   "metadata": {},
   "source": [
    "TypeError: can only concatenate str (not \"int\") to str.\n",
    "\n",
    "this error can be fixed by such a way that\n",
    "\n",
    "   'I have eaten' +str(99)+ 'burritos'"
   ]
  },
  {
   "cell_type": "code",
   "execution_count": null,
   "metadata": {},
   "outputs": [],
   "source": [
    "#the corrected expression i.e,\n",
    "'I have eaten' +str(99)+ 'burritos'"
   ]
  },
  {
   "cell_type": "code",
   "execution_count": null,
   "metadata": {},
   "outputs": [],
   "source": [
    "'i have eaten' +99+ 'burritos.'"
   ]
  },
  {
   "cell_type": "markdown",
   "metadata": {},
   "source": [
    "## Question 11\n",
    "Write a Python program to calculate the sum of two numbers and print the result.\n",
    "gative, or zero."
   ]
  },
  {
   "cell_type": "code",
   "execution_count": 3,
   "metadata": {},
   "outputs": [
    {
     "name": "stdout",
     "output_type": "stream",
     "text": [
      "The sum of 45.0 and -98.0 is: -53.0\n",
      "The result is negative.\n"
     ]
    }
   ],
   "source": [
    "def calculate_sum(num1, num2):\n",
    "    # Calculate the sum of the two numbers\n",
    "    result = num1 + num2\n",
    "    \n",
    "    # Print the result\n",
    "    print(\"The sum of\", num1, \"and\", num2, \"is:\", result)\n",
    "    \n",
    "    # Determine if the result is positive, negative, or zero\n",
    "    if result > 0:\n",
    "        print(\"The result is positive.\")\n",
    "    elif result < 0:\n",
    "        print(\"The result is negative.\")\n",
    "    else:\n",
    "        print(\"The result is zero.\")\n",
    "\n",
    "# Input two numbers from the user\n",
    "num1 = float(input(\"Enter the first number: \"))\n",
    "num2 = float(input(\"Enter the second number: \"))\n",
    "\n",
    "# Call the function to calculate the sum and determine the result\n",
    "calculate_sum(num1, num2)"
   ]
  },
  {
   "cell_type": "markdown",
   "metadata": {},
   "source": [
    "## Question 12\n",
    "Create a Python program that takes the user's name as input and prints a greeting message.\n",
    "\n"
   ]
  },
  {
   "cell_type": "code",
   "execution_count": 1,
   "metadata": {},
   "outputs": [
    {
     "name": "stdout",
     "output_type": "stream",
     "text": [
      "Pranaam, ! Welcome to the program.\n"
     ]
    }
   ],
   "source": [
    "def greet_user():\n",
    "    # Ask the user for their name\n",
    "    name = input(\"Enter your name: \")\n",
    "    \n",
    "    # Print a greeting message\n",
    "    print(\"Pranaam,\", name + \"! Welcome to the program.\")\n",
    "\n",
    "# Call the function to greet the user\n",
    "greet_user()"
   ]
  },
  {
   "cell_type": "markdown",
   "metadata": {},
   "source": [
    "## Question 13\n",
    "Write a Python program to calculate the area of a rectangle given its length and width. (Assume length and width are provided as inputs.)\n",
    "\n"
   ]
  },
  {
   "cell_type": "code",
   "execution_count": 4,
   "metadata": {},
   "outputs": [
    {
     "name": "stdout",
     "output_type": "stream",
     "text": [
      "The area of the rectangle with length 87.0 and width 98.0 is: 8526.0\n"
     ]
    }
   ],
   "source": [
    "def calculate_rectangle_area(length, width):\n",
    "    # Calculate the area of the rectangle\n",
    "    area = length * width\n",
    "    \n",
    "    # Return the calculated area\n",
    "    return area\n",
    "\n",
    "# Input the length and width of the rectangle from the user\n",
    "length = float(input(\"Enter the length of the rectangle: \"))\n",
    "width = float(input(\"Enter the width of the rectangle: \"))\n",
    "\n",
    "# Call the function to calculate the area of the rectangle\n",
    "area = calculate_rectangle_area(length, width)\n",
    "\n",
    "# Print the calculated area\n",
    "print(\"The area of the rectangle with length\", length, \"and width\", width, \"is:\", area)"
   ]
  },
  {
   "cell_type": "markdown",
   "metadata": {},
   "source": [
    "## Question 14\n",
    "Create a Python program that asks the user for their age and prints out a message saying whether they are a child, teenager, or adult based on their age.\n",
    "\n"
   ]
  },
  {
   "cell_type": "code",
   "execution_count": 9,
   "metadata": {},
   "outputs": [
    {
     "name": "stdout",
     "output_type": "stream",
     "text": [
      "You are an adult.\n"
     ]
    }
   ],
   "source": [
    "def check_age_category(age):\n",
    "    # Check the age category based on the provided age\n",
    "    if age < 0:\n",
    "        return \"Invalid age. Please enter a valid age.\"\n",
    "    elif age < 13:\n",
    "        return \"You are a child.\"\n",
    "    elif age < 20:\n",
    "        return \"You are a teenager.\"\n",
    "    else:\n",
    "        return \"You are an adult.\"\n",
    "\n",
    "# Input the age from the user\n",
    "age = int(input(\"Enter your age: \"))\n",
    "\n",
    "# Call the function to check the age category and print the result\n",
    "print(check_age_category(age))"
   ]
  },
  {
   "cell_type": "markdown",
   "metadata": {},
   "source": [
    "## Question 15\n",
    "Write a Python program to convert temperature from Celsius to Fahrenheit. (Assume Celsius temperature is provided as input.)\n",
    "\n"
   ]
  },
  {
   "cell_type": "code",
   "execution_count": 5,
   "metadata": {},
   "outputs": [
    {
     "name": "stdout",
     "output_type": "stream",
     "text": [
      "Enter Temperature in Fahrenheit: \n",
      "\n",
      "Equivalent Temperature in Celsius:  7.222222222222222\n"
     ]
    }
   ],
   "source": [
    "\n",
    "print(\"Enter Temperature in Fahrenheit: \")\n",
    "\n",
    "fahren = float(input())\n",
    "\n",
    "celi = (fahren-32)/1.8\n",
    "\n",
    "print(\"\\nEquivalent Temperature in Celsius: \", celi)\n"
   ]
  },
  {
   "cell_type": "markdown",
   "metadata": {},
   "source": [
    "## Question 16\n",
    "Create a Python program that takes the radius of a circle as input and calculates its area. (Assume the value of pi is 3.14.)\n",
    "\n"
   ]
  },
  {
   "cell_type": "code",
   "execution_count": 7,
   "metadata": {},
   "outputs": [
    {
     "name": "stdout",
     "output_type": "stream",
     "text": [
      "The area of the circle with radius 76.0 is: 18145.82384\n"
     ]
    }
   ],
   "source": [
    "def calculate_area(radius):\n",
    "    # Calculate the area of the circle using the formula: π * radius^2\n",
    "    area = 3.14159 * radius ** 2\n",
    "    return area\n",
    "\n",
    "# Input the radius of the circle from the user\n",
    "radius = float(input(\"Enter the radius of the circle: \"))\n",
    "\n",
    "# Call the function to calculate the area\n",
    "area = calculate_area(radius)\n",
    "\n",
    "# Print the result\n",
    "print(\"The area of the circle with radius\", radius, \"is:\", area)"
   ]
  },
  {
   "cell_type": "markdown",
   "metadata": {},
   "source": [
    "## Question 17\n",
    "Write a Python program to find the maximum of two numbers entered by the user.\n",
    "\n"
   ]
  },
  {
   "cell_type": "code",
   "execution_count": 8,
   "metadata": {},
   "outputs": [
    {
     "name": "stdout",
     "output_type": "stream",
     "text": [
      "The maximum of 45.0 and 34.0 is: 45.0\n"
     ]
    }
   ],
   "source": [
    "def find_maximum(num1, num2):\n",
    "    # Find the maximum of the two numbers\n",
    "    maximum = max(num1, num2)\n",
    "    return maximum\n",
    "\n",
    "# Input two numbers from the user\n",
    "num1 = float(input(\"Enter the first number: \"))\n",
    "num2 = float(input(\"Enter the second number: \"))\n",
    "\n",
    "# Call the function to find the maximum\n",
    "maximum = find_maximum(num1, num2)\n",
    "\n",
    "# Print the result\n",
    "print(\"The maximum of\", num1, \"and\", num2, \"is:\", maximum)"
   ]
  },
  {
   "cell_type": "markdown",
   "metadata": {},
   "source": [
    "## Question 18\n",
    "Create a Python program that asks the user to enter two numbers and prints out their product.\n",
    "\n"
   ]
  },
  {
   "cell_type": "code",
   "execution_count": 10,
   "metadata": {},
   "outputs": [
    {
     "name": "stdout",
     "output_type": "stream",
     "text": [
      "The product of 54.0 and 76.0 is: 4104.0\n"
     ]
    }
   ],
   "source": [
    "def calculate_product(num1, num2):\n",
    "    # Calculate the product of the two numbers\n",
    "    product = num1 * num2\n",
    "    return product\n",
    "\n",
    "# Input two numbers from the user\n",
    "num1 = float(input(\"Enter the first number: \"))\n",
    "num2 = float(input(\"Enter the second number: \"))\n",
    "\n",
    "# Call the function to calculate the product\n",
    "product = calculate_product(num1, num2)\n",
    "\n",
    "# Print the result\n",
    "print(\"The product of\", num1, \"and\", num2, \"is:\", product)"
   ]
  },
  {
   "cell_type": "markdown",
   "metadata": {},
   "source": [
    "## Question 19\n",
    "Write a Python program that prompts the user to enter a number and then prints whether the number is positive, negative, or zero."
   ]
  },
  {
   "cell_type": "code",
   "execution_count": 7,
   "metadata": {},
   "outputs": [
    {
     "name": "stdout",
     "output_type": "stream",
     "text": [
      "Negative number\n"
     ]
    }
   ],
   "source": [
    "num = float(input(\"Enter a number: \"))\n",
    "if num > 0:\n",
    "   print(\"Positive number\")\n",
    "elif num == 0:\n",
    "   print(\"Zero\")\n",
    "else:\n",
    "   print(\"Negative number\")\n"
   ]
  }
 ],
 "metadata": {
  "anaconda-cloud": {},
  "kernelspec": {
   "display_name": "Python 3 (ipykernel)",
   "language": "python",
   "name": "python3"
  },
  "language_info": {
   "codemirror_mode": {
    "name": "ipython",
    "version": 3
   },
   "file_extension": ".py",
   "mimetype": "text/x-python",
   "name": "python",
   "nbconvert_exporter": "python",
   "pygments_lexer": "ipython3",
   "version": "3.9.13"
  }
 },
 "nbformat": 4,
 "nbformat_minor": 4
}
